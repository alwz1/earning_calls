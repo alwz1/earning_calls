{
 "cells": [
  {
   "cell_type": "code",
   "execution_count": 1,
   "id": "dfe8bdfe",
   "metadata": {},
   "outputs": [],
   "source": [
    "%reset -f"
   ]
  },
  {
   "cell_type": "code",
   "execution_count": 2,
   "id": "9660642b",
   "metadata": {},
   "outputs": [],
   "source": [
    "import numpy as np\n",
    "import pandas as pd\n",
    "from gensim import corpora\n",
    "from gensim.models.phrases import Phrases, Phraser\n",
    "from gensim.models import TfidfModel\n",
    "\n",
    "data_path = '/Users/ayemyatwinshwe/repos/data/trading_data/'"
   ]
  },
  {
   "cell_type": "code",
   "execution_count": 3,
   "id": "af34b77c-65e4-4a18-905b-809e2a1f0964",
   "metadata": {},
   "outputs": [
    {
     "data": {
      "text/html": [
       "<div>\n",
       "<style scoped>\n",
       "    .dataframe tbody tr th:only-of-type {\n",
       "        vertical-align: middle;\n",
       "    }\n",
       "\n",
       "    .dataframe tbody tr th {\n",
       "        vertical-align: top;\n",
       "    }\n",
       "\n",
       "    .dataframe thead th {\n",
       "        text-align: right;\n",
       "    }\n",
       "</style>\n",
       "<table border=\"1\" class=\"dataframe\">\n",
       "  <thead>\n",
       "    <tr style=\"text-align: right;\">\n",
       "      <th></th>\n",
       "      <th>tokens</th>\n",
       "    </tr>\n",
       "  </thead>\n",
       "  <tbody>\n",
       "    <tr>\n",
       "      <th>0</th>\n",
       "      <td>[operator, good, day, ladies, gentlemen, welco...</td>\n",
       "    </tr>\n",
       "    <tr>\n",
       "      <th>1</th>\n",
       "      <td>[operator, good, day, ladies, gentlemen, welco...</td>\n",
       "    </tr>\n",
       "    <tr>\n",
       "      <th>2</th>\n",
       "      <td>[operator, good, afternoon, welcome, agilent, ...</td>\n",
       "    </tr>\n",
       "    <tr>\n",
       "      <th>3</th>\n",
       "      <td>[operator, good, afternoon, welcome, agilent, ...</td>\n",
       "    </tr>\n",
       "    <tr>\n",
       "      <th>4</th>\n",
       "      <td>[operator, good, afternoon, welcome, agilent, ...</td>\n",
       "    </tr>\n",
       "  </tbody>\n",
       "</table>\n",
       "</div>"
      ],
      "text/plain": [
       "                                              tokens\n",
       "0  [operator, good, day, ladies, gentlemen, welco...\n",
       "1  [operator, good, day, ladies, gentlemen, welco...\n",
       "2  [operator, good, afternoon, welcome, agilent, ...\n",
       "3  [operator, good, afternoon, welcome, agilent, ...\n",
       "4  [operator, good, afternoon, welcome, agilent, ..."
      ]
     },
     "execution_count": 3,
     "metadata": {},
     "output_type": "execute_result"
    }
   ],
   "source": [
    "df_tokens = pd.read_parquet(data_path + 'earning_call_tokens')\n",
    "df_tokens.head()"
   ]
  },
  {
   "cell_type": "code",
   "execution_count": 4,
   "id": "53e994b1-9461-4cc7-b40d-d193687264cb",
   "metadata": {},
   "outputs": [],
   "source": [
    "data_tokens = df_tokens['tokens'].to_list()"
   ]
  },
  {
   "cell_type": "code",
   "execution_count": 5,
   "id": "fcf8dfd3-204a-4452-9333-081222777d81",
   "metadata": {},
   "outputs": [],
   "source": [
    "# bigrams and trigrams\n",
    "bigrams_phrases = Phrases(data_tokens, \n",
    "                          min_count= 25, \n",
    "                          threshold = 1)\n",
    "            \n",
    "trigrams_phrases = Phrases(bigrams_phrases[data_tokens], \n",
    "                           min_count= 25, \n",
    "                           threshold = 1)\n",
    "\n",
    "bigram = Phraser(bigrams_phrases)\n",
    "trigram = Phraser(trigrams_phrases)\n",
    "\n",
    "data_bigrams = [bigram[doc] for doc in data_tokens]\n",
    "data_trigrams = [trigram[bigram[doc]] for doc in data_bigrams]"
   ]
  },
  {
   "cell_type": "code",
   "execution_count": 14,
   "id": "d888d7e2-d1ad-401a-ab29-069fc8874ec7",
   "metadata": {},
   "outputs": [
    {
     "data": {
      "text/plain": [
       "['operator_good_day_ladies',\n",
       " 'gentlemen_welcome',\n",
       " 'agilent',\n",
       " 'technologies_quarter_earnings',\n",
       " 'conference_time',\n",
       " 'lines_listen',\n",
       " 'mode_later_conduct_question',\n",
       " 'answer_session_instructions_provided',\n",
       " 'time_operator_instructions',\n",
       " 'reminder_today_conference_recorded',\n",
       " 'hand_conference',\n",
       " 'ankur_dhingra',\n",
       " 'vice_president_investor_relations',\n",
       " 'ahead',\n",
       " 'ankur_dhingra',\n",
       " 'thank_welcome',\n",
       " 'agilent',\n",
       " 'quarter_conference',\n",
       " 'fiscal_year',\n",
       " 'mike_mcmullen']"
      ]
     },
     "execution_count": 14,
     "metadata": {},
     "output_type": "execute_result"
    }
   ],
   "source": [
    "data_trigrams[0][:20]"
   ]
  },
  {
   "cell_type": "code",
   "execution_count": null,
   "id": "4d3b23ac-7a55-4b5c-96b2-6dcd64b167c2",
   "metadata": {},
   "outputs": [],
   "source": []
  }
 ],
 "metadata": {
  "kernelspec": {
   "display_name": "Python 3",
   "language": "python",
   "name": "python3"
  },
  "language_info": {
   "codemirror_mode": {
    "name": "ipython",
    "version": 3
   },
   "file_extension": ".py",
   "mimetype": "text/x-python",
   "name": "python",
   "nbconvert_exporter": "python",
   "pygments_lexer": "ipython3",
   "version": "3.8.10"
  }
 },
 "nbformat": 4,
 "nbformat_minor": 5
}
