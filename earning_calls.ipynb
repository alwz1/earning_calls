{
 "cells": [
  {
   "cell_type": "code",
   "execution_count": null,
   "id": "af8ce05c",
   "metadata": {},
   "outputs": [],
   "source": [
    "%reset -f"
   ]
  },
  {
   "cell_type": "code",
   "execution_count": null,
   "id": "7f5dee68",
   "metadata": {},
   "outputs": [],
   "source": [
    "import numpy as np\n",
    "import pandas as pd\n",
    "import datetime\n",
    "import time\n",
    "import re\n",
    "import requests\n",
    "from itertools import islice\n",
    "\n",
    "api_key = pd.read_json('fmp_api_key.json').iloc[0].to_list()[0]\n",
    "data_path = '/Users/ayemyatwinshwe/repos/data/trading_data/'\n",
    "headers = {'User-Agent': 'Mozilla/5.0 (Macintosh; Intel Mac OS X 10_15_6) AppleWebKit/605.1.15 (KHTML, like Gecko) Version/14.0.3 Safari/605.1.15'}"
   ]
  },
  {
   "cell_type": "code",
   "execution_count": null,
   "id": "46ca352d",
   "metadata": {},
   "outputs": [],
   "source": [
    "# Earning call transcripts\n",
    "def get_earning_calls(ticker, year):\n",
    "    \"\"\"\n",
    "    Inputs: stock ticker and year\n",
    "    Outputs: pandas dataframe for earning call transcripts\n",
    "    \"\"\"\n",
    "    response = requests.get(\"https://financialmodelingprep.com/api/v4/batch_earning_call_transcript/\" +\n",
    "                       ticker + \"?year=\"+ str(year) + \"&apikey=\" + api_key, headers=headers)\n",
    "    df = pd.json_normalize(response.json())\n",
    "        \n",
    "    return df"
   ]
  },
  {
   "cell_type": "code",
   "execution_count": null,
   "id": "5bdd600c",
   "metadata": {},
   "outputs": [],
   "source": [
    "df_tickers = pd.read_csv(data_path + 'tickers.csv')\n",
    "tickers_all = df_tickers['symbol'].values\n",
    "len(tickers_all)"
   ]
  },
  {
   "cell_type": "code",
   "execution_count": null,
   "id": "7a244e23",
   "metadata": {},
   "outputs": [],
   "source": [
    "# break up the list tickers into smaller lists of ~ 500 elements\n",
    "length_to_split = [500]*10 + [541]\n",
    "iter_tickers = iter(tickers_all)\n",
    "tickers_lists = [list(islice(iter_tickers, elem)) for elem in length_to_split]"
   ]
  },
  {
   "cell_type": "code",
   "execution_count": null,
   "id": "e2fc8c25",
   "metadata": {},
   "outputs": [],
   "source": [
    "def get_mul_earning_calls(tickers, years):\n",
    "    \n",
    "    earning_calls = pd.concat([get_earning_calls(tickers[0], year) for year in years])\n",
    "    \n",
    "    for ticker in tickers[1:]:\n",
    "        earning_calls_new = pd.concat([get_earning_calls(ticker, year) for year in years])\n",
    "        earning_calls = pd.concat([earning_calls, earning_calls_new])\n",
    "    \n",
    "    return earning_calls.reset_index(drop=True)"
   ]
  },
  {
   "cell_type": "code",
   "execution_count": null,
   "id": "f7d655c4",
   "metadata": {},
   "outputs": [],
   "source": [
    "years = [2019, 2020, 2021]\n",
    "temp = 8\n",
    "\n",
    "for tickers in tickers_lists[8:]:\n",
    "    \n",
    "    temp = temp+1\n",
    "    earning_calls = get_mul_earning_calls(tickers, years)\n",
    "    earning_calls.to_parquet(data_path + 'earning_calls_' + str(temp), engine='pyarrow', compression='gzip')  \n",
    "    time.sleep(5)"
   ]
  },
  {
   "cell_type": "code",
   "execution_count": null,
   "id": "c6590035",
   "metadata": {},
   "outputs": [],
   "source": [
    "df_1 = pd.read_parquet(data_path + 'earning_calls_1')\n",
    "df_2 = pd.read_parquet(data_path + 'earning_calls_2')\n",
    "df_3 = pd.read_parquet(data_path + 'earning_calls_3')\n",
    "df_4 = pd.read_parquet(data_path + 'earning_calls_4')\n",
    "df_5 = pd.read_parquet(data_path + 'earning_calls_5')\n",
    "df_6 = pd.read_parquet(data_path + 'earning_calls_6')\n",
    "df_7 = pd.read_parquet(data_path + 'earning_calls_7')\n",
    "df_8 = pd.read_parquet(data_path + 'earning_calls_8')\n",
    "df_9 = pd.read_parquet(data_path + 'earning_calls_9')\n",
    "df_10 = pd.read_parquet(data_path + 'earning_calls_10')\n",
    "df_11 = pd.read_parquet(data_path + 'earning_calls_11')"
   ]
  },
  {
   "cell_type": "code",
   "execution_count": null,
   "id": "b0c0e39a",
   "metadata": {},
   "outputs": [],
   "source": [
    "earning_calls = pd.concat([df_1, df_2, df_3, df_4, df_5, df_6, df_7, df_8, df_9, df_10, df_11])"
   ]
  },
  {
   "cell_type": "code",
   "execution_count": null,
   "id": "83a52e16",
   "metadata": {},
   "outputs": [],
   "source": [
    "earning_calls = earning_calls.convert_dtypes()"
   ]
  },
  {
   "cell_type": "code",
   "execution_count": null,
   "id": "dc91347f",
   "metadata": {},
   "outputs": [],
   "source": [
    "earning_calls.head()"
   ]
  },
  {
   "cell_type": "code",
   "execution_count": null,
   "id": "5630f890",
   "metadata": {},
   "outputs": [],
   "source": [
    "earning_calls['date'] = pd.to_datetime(earning_calls['date'])"
   ]
  },
  {
   "cell_type": "code",
   "execution_count": null,
   "id": "c63a3e5f",
   "metadata": {},
   "outputs": [],
   "source": [
    "earning_calls.to_parquet(data_path + 'earning_calls', engine='pyarrow', compression='gzip')  "
   ]
  },
  {
   "cell_type": "code",
   "execution_count": null,
   "id": "f5167e69",
   "metadata": {},
   "outputs": [],
   "source": [
    "earning_calls['date'].max()"
   ]
  },
  {
   "cell_type": "code",
   "execution_count": null,
   "id": "d502286b",
   "metadata": {},
   "outputs": [],
   "source": []
  }
 ],
 "metadata": {
  "kernelspec": {
   "display_name": "Python 3",
   "language": "python",
   "name": "python3"
  },
  "language_info": {
   "codemirror_mode": {
    "name": "ipython",
    "version": 3
   },
   "file_extension": ".py",
   "mimetype": "text/x-python",
   "name": "python",
   "nbconvert_exporter": "python",
   "pygments_lexer": "ipython3",
   "version": "3.8.8"
  }
 },
 "nbformat": 4,
 "nbformat_minor": 5
}
