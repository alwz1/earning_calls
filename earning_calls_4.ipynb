{
 "cells": [
  {
   "cell_type": "code",
   "execution_count": 1,
   "id": "dfe8bdfe",
   "metadata": {},
   "outputs": [],
   "source": [
    "%reset -f"
   ]
  },
  {
   "cell_type": "code",
   "execution_count": 2,
   "id": "9660642b",
   "metadata": {},
   "outputs": [],
   "source": [
    "import numpy as np\n",
    "import pandas as pd\n",
    "import matplotlib.pyplot as plt\n",
    "from gensim import corpora\n",
    "from gensim.models.phrases import Phrases, Phraser\n",
    "from gensim.models import Word2Vec\n",
    "from gensim.models import KeyedVectors\n",
    "\n",
    "data_path = '/Users/ayemyatwinshwe/repos/data/trading_data/'"
   ]
  },
  {
   "cell_type": "code",
   "execution_count": 3,
   "id": "af34b77c-65e4-4a18-905b-809e2a1f0964",
   "metadata": {},
   "outputs": [
    {
     "data": {
      "text/html": [
       "<div>\n",
       "<style scoped>\n",
       "    .dataframe tbody tr th:only-of-type {\n",
       "        vertical-align: middle;\n",
       "    }\n",
       "\n",
       "    .dataframe tbody tr th {\n",
       "        vertical-align: top;\n",
       "    }\n",
       "\n",
       "    .dataframe thead th {\n",
       "        text-align: right;\n",
       "    }\n",
       "</style>\n",
       "<table border=\"1\" class=\"dataframe\">\n",
       "  <thead>\n",
       "    <tr style=\"text-align: right;\">\n",
       "      <th></th>\n",
       "      <th>tokens</th>\n",
       "    </tr>\n",
       "  </thead>\n",
       "  <tbody>\n",
       "    <tr>\n",
       "      <th>0</th>\n",
       "      <td>[operator, good, day, ladies, gentlemen, welco...</td>\n",
       "    </tr>\n",
       "    <tr>\n",
       "      <th>1</th>\n",
       "      <td>[operator, good, day, ladies, gentlemen, welco...</td>\n",
       "    </tr>\n",
       "    <tr>\n",
       "      <th>2</th>\n",
       "      <td>[operator, good, afternoon, welcome, agilent, ...</td>\n",
       "    </tr>\n",
       "    <tr>\n",
       "      <th>3</th>\n",
       "      <td>[operator, good, afternoon, welcome, agilent, ...</td>\n",
       "    </tr>\n",
       "    <tr>\n",
       "      <th>4</th>\n",
       "      <td>[operator, good, afternoon, welcome, agilent, ...</td>\n",
       "    </tr>\n",
       "  </tbody>\n",
       "</table>\n",
       "</div>"
      ],
      "text/plain": [
       "                                              tokens\n",
       "0  [operator, good, day, ladies, gentlemen, welco...\n",
       "1  [operator, good, day, ladies, gentlemen, welco...\n",
       "2  [operator, good, afternoon, welcome, agilent, ...\n",
       "3  [operator, good, afternoon, welcome, agilent, ...\n",
       "4  [operator, good, afternoon, welcome, agilent, ..."
      ]
     },
     "execution_count": 3,
     "metadata": {},
     "output_type": "execute_result"
    }
   ],
   "source": [
    "df_tokens = pd.read_parquet(data_path + 'earning_call_tokens')\n",
    "df_tokens.head()"
   ]
  },
  {
   "cell_type": "code",
   "execution_count": 4,
   "id": "53e994b1-9461-4cc7-b40d-d193687264cb",
   "metadata": {},
   "outputs": [],
   "source": [
    "data_tokens = df_tokens['tokens'].to_list()\n",
    "del df_tokens"
   ]
  },
  {
   "cell_type": "code",
   "execution_count": 5,
   "id": "fcf8dfd3-204a-4452-9333-081222777d81",
   "metadata": {},
   "outputs": [
    {
     "name": "stdout",
     "output_type": "stream",
     "text": [
      "CPU times: user 8min 42s, sys: 13 s, total: 8min 55s\n",
      "Wall time: 8min 58s\n"
     ]
    }
   ],
   "source": [
    "%%time\n",
    "# bigrams and trigrams\n",
    "bigrams_phrases = Phrases(data_tokens, \n",
    "                          min_count= 25, \n",
    "                          threshold = 1)\n",
    "            \n",
    "trigrams_phrases = Phrases(bigrams_phrases[data_tokens], \n",
    "                           min_count= 25, \n",
    "                           threshold = 1)\n",
    "\n",
    "bigram = Phraser(bigrams_phrases)\n",
    "trigram = Phraser(trigrams_phrases)\n",
    "\n",
    "data_bigrams = [bigram[doc] for doc in data_tokens]\n",
    "data_trigrams = [trigram[bigram[doc]] for doc in data_bigrams]"
   ]
  },
  {
   "cell_type": "code",
   "execution_count": 6,
   "id": "963029bc-e5c7-429a-8ac0-a83d8beaf27a",
   "metadata": {},
   "outputs": [],
   "source": [
    "del bigrams_phrases, trigrams_phrases, bigram, trigram, data_bigrams"
   ]
  },
  {
   "cell_type": "markdown",
   "id": "659d2cae-f76d-4a48-b54e-179a3fb8f559",
   "metadata": {
    "tags": []
   },
   "source": [
    "%%time\n",
    "model = Word2Vec(sentences=data_trigrams, \n",
    "                 sg=1,\n",
    "                 hs=0,\n",
    "                 vector_size=300, \n",
    "                 window=5, \n",
    "                 min_count=50,\n",
    "                 negative=15,\n",
    "                 workers=4,\n",
    "                 alpha=0.05,\n",
    "                 min_alpha=0.0001)\n",
    "\n",
    "model.save(\"word2vec.model\")"
   ]
  },
  {
   "cell_type": "code",
   "execution_count": null,
   "id": "c8112fb4-ded3-4fef-b9ac-8c6c62fc3e8b",
   "metadata": {},
   "outputs": [],
   "source": [
    "model = Word2Vec.load(\"word2vec.model\")\n",
    "word_vectors = model.wv\n",
    "word_vectors.save(\"vectors.kv\")\n",
    "del model\n",
    "del word_vectors"
   ]
  },
  {
   "cell_type": "code",
   "execution_count": 7,
   "id": "d9dc0467-56e7-4c96-8f4d-118b4ae9508e",
   "metadata": {},
   "outputs": [],
   "source": [
    "wv = KeyedVectors.load('vectors.kv')"
   ]
  },
  {
   "cell_type": "code",
   "execution_count": 8,
   "id": "0547963f-5c9e-47fa-bc22-37e034aae10f",
   "metadata": {},
   "outputs": [
    {
     "name": "stdout",
     "output_type": "stream",
     "text": [
      "CPU times: user 1min 8s, sys: 5.43 s, total: 1min 13s\n",
      "Wall time: 1min 15s\n"
     ]
    }
   ],
   "source": [
    "%%time\n",
    "word_vecs = []\n",
    "\n",
    "for i in np.arange(len(data_trigrams)):\n",
    "    vecs = []\n",
    "    for x in data_trigrams[i]:\n",
    "        try:\n",
    "            vecs.append(wv[x])\n",
    "        except KeyError:\n",
    "            pass\n",
    "    word_vecs.append(vecs)"
   ]
  },
  {
   "cell_type": "code",
   "execution_count": 9,
   "id": "26b00609-7a2e-4fea-946b-26d5867fe40a",
   "metadata": {},
   "outputs": [
    {
     "data": {
      "text/html": [
       "<div>\n",
       "<style scoped>\n",
       "    .dataframe tbody tr th:only-of-type {\n",
       "        vertical-align: middle;\n",
       "    }\n",
       "\n",
       "    .dataframe tbody tr th {\n",
       "        vertical-align: top;\n",
       "    }\n",
       "\n",
       "    .dataframe thead th {\n",
       "        text-align: right;\n",
       "    }\n",
       "</style>\n",
       "<table border=\"1\" class=\"dataframe\">\n",
       "  <thead>\n",
       "    <tr style=\"text-align: right;\">\n",
       "      <th></th>\n",
       "      <th>vectors</th>\n",
       "    </tr>\n",
       "  </thead>\n",
       "  <tbody>\n",
       "    <tr>\n",
       "      <th>0</th>\n",
       "      <td>[[1.0666107, -0.28468454, -0.08754885, -0.4464...</td>\n",
       "    </tr>\n",
       "    <tr>\n",
       "      <th>1</th>\n",
       "      <td>[[1.0666107, -0.28468454, -0.08754885, -0.4464...</td>\n",
       "    </tr>\n",
       "    <tr>\n",
       "      <th>2</th>\n",
       "      <td>[[0.6297637, -0.32820508, 0.02398203, -0.13134...</td>\n",
       "    </tr>\n",
       "    <tr>\n",
       "      <th>3</th>\n",
       "      <td>[[0.6297637, -0.32820508, 0.02398203, -0.13134...</td>\n",
       "    </tr>\n",
       "    <tr>\n",
       "      <th>4</th>\n",
       "      <td>[[0.6297637, -0.32820508, 0.02398203, -0.13134...</td>\n",
       "    </tr>\n",
       "    <tr>\n",
       "      <th>...</th>\n",
       "      <td>...</td>\n",
       "    </tr>\n",
       "    <tr>\n",
       "      <th>26232</th>\n",
       "      <td>[[0.6297637, -0.32820508, 0.02398203, -0.13134...</td>\n",
       "    </tr>\n",
       "    <tr>\n",
       "      <th>26233</th>\n",
       "      <td>[[0.7034699, -0.28815025, -0.30461752, 0.17155...</td>\n",
       "    </tr>\n",
       "    <tr>\n",
       "      <th>26234</th>\n",
       "      <td>[[0.7034699, -0.28815025, -0.30461752, 0.17155...</td>\n",
       "    </tr>\n",
       "    <tr>\n",
       "      <th>26235</th>\n",
       "      <td>[[0.6297637, -0.32820508, 0.02398203, -0.13134...</td>\n",
       "    </tr>\n",
       "    <tr>\n",
       "      <th>26236</th>\n",
       "      <td>[[0.6297637, -0.32820508, 0.02398203, -0.13134...</td>\n",
       "    </tr>\n",
       "  </tbody>\n",
       "</table>\n",
       "<p>26237 rows × 1 columns</p>\n",
       "</div>"
      ],
      "text/plain": [
       "                                                 vectors\n",
       "0      [[1.0666107, -0.28468454, -0.08754885, -0.4464...\n",
       "1      [[1.0666107, -0.28468454, -0.08754885, -0.4464...\n",
       "2      [[0.6297637, -0.32820508, 0.02398203, -0.13134...\n",
       "3      [[0.6297637, -0.32820508, 0.02398203, -0.13134...\n",
       "4      [[0.6297637, -0.32820508, 0.02398203, -0.13134...\n",
       "...                                                  ...\n",
       "26232  [[0.6297637, -0.32820508, 0.02398203, -0.13134...\n",
       "26233  [[0.7034699, -0.28815025, -0.30461752, 0.17155...\n",
       "26234  [[0.7034699, -0.28815025, -0.30461752, 0.17155...\n",
       "26235  [[0.6297637, -0.32820508, 0.02398203, -0.13134...\n",
       "26236  [[0.6297637, -0.32820508, 0.02398203, -0.13134...\n",
       "\n",
       "[26237 rows x 1 columns]"
      ]
     },
     "execution_count": 9,
     "metadata": {},
     "output_type": "execute_result"
    }
   ],
   "source": [
    "df_word_vecs = pd.DataFrame()\n",
    "df_word_vecs['vectors'] = word_vecs\n",
    "df_word_vecs"
   ]
  },
  {
   "cell_type": "code",
   "execution_count": 10,
   "id": "3bde7684-45f8-40b8-aebe-35fee320b981",
   "metadata": {},
   "outputs": [
    {
     "data": {
      "text/html": [
       "<div>\n",
       "<style scoped>\n",
       "    .dataframe tbody tr th:only-of-type {\n",
       "        vertical-align: middle;\n",
       "    }\n",
       "\n",
       "    .dataframe tbody tr th {\n",
       "        vertical-align: top;\n",
       "    }\n",
       "\n",
       "    .dataframe thead th {\n",
       "        text-align: right;\n",
       "    }\n",
       "</style>\n",
       "<table border=\"1\" class=\"dataframe\">\n",
       "  <thead>\n",
       "    <tr style=\"text-align: right;\">\n",
       "      <th></th>\n",
       "      <th>quarter</th>\n",
       "      <th>year</th>\n",
       "      <th>date</th>\n",
       "      <th>content</th>\n",
       "      <th>prev_day</th>\n",
       "      <th>next_7day</th>\n",
       "      <th>prev_adjClose</th>\n",
       "      <th>next_adjClose</th>\n",
       "      <th>returns</th>\n",
       "    </tr>\n",
       "    <tr>\n",
       "      <th>symbol</th>\n",
       "      <th></th>\n",
       "      <th></th>\n",
       "      <th></th>\n",
       "      <th></th>\n",
       "      <th></th>\n",
       "      <th></th>\n",
       "      <th></th>\n",
       "      <th></th>\n",
       "      <th></th>\n",
       "    </tr>\n",
       "  </thead>\n",
       "  <tbody>\n",
       "    <tr>\n",
       "      <th>A</th>\n",
       "      <td>1</td>\n",
       "      <td>2019</td>\n",
       "      <td>2019-03-04</td>\n",
       "      <td>Operator: Good day, ladies and gentlemen, and ...</td>\n",
       "      <td>2019-02-20</td>\n",
       "      <td>2019-03-04</td>\n",
       "      <td>77.049599</td>\n",
       "      <td>78.589417</td>\n",
       "      <td>0.019985</td>\n",
       "    </tr>\n",
       "    <tr>\n",
       "      <th>A</th>\n",
       "      <td>2</td>\n",
       "      <td>2019</td>\n",
       "      <td>2019-05-24</td>\n",
       "      <td>Operator: Good day, ladies and gentlemen. And ...</td>\n",
       "      <td>2019-05-14</td>\n",
       "      <td>2019-05-24</td>\n",
       "      <td>74.701042</td>\n",
       "      <td>67.182785</td>\n",
       "      <td>-0.100645</td>\n",
       "    </tr>\n",
       "    <tr>\n",
       "      <th>A</th>\n",
       "      <td>3</td>\n",
       "      <td>2019</td>\n",
       "      <td>2019-08-26</td>\n",
       "      <td>Operator: Good afternoon, and welcome to the A...</td>\n",
       "      <td>2019-08-14</td>\n",
       "      <td>2019-08-26</td>\n",
       "      <td>64.602371</td>\n",
       "      <td>68.591385</td>\n",
       "      <td>0.061747</td>\n",
       "    </tr>\n",
       "    <tr>\n",
       "      <th>A</th>\n",
       "      <td>4</td>\n",
       "      <td>2019</td>\n",
       "      <td>2019-12-05</td>\n",
       "      <td>Operator: Good afternoon, and welcome to the A...</td>\n",
       "      <td>2019-11-25</td>\n",
       "      <td>2019-12-05</td>\n",
       "      <td>79.221558</td>\n",
       "      <td>80.475121</td>\n",
       "      <td>0.015824</td>\n",
       "    </tr>\n",
       "    <tr>\n",
       "      <th>A</th>\n",
       "      <td>1</td>\n",
       "      <td>2020</td>\n",
       "      <td>2020-02-28</td>\n",
       "      <td>Operator: Good afternoon and welcome to the Ag...</td>\n",
       "      <td>2020-02-18</td>\n",
       "      <td>2020-02-28</td>\n",
       "      <td>83.869682</td>\n",
       "      <td>76.233475</td>\n",
       "      <td>-0.091048</td>\n",
       "    </tr>\n",
       "  </tbody>\n",
       "</table>\n",
       "</div>"
      ],
      "text/plain": [
       "        quarter  year       date  \\\n",
       "symbol                             \n",
       "A             1  2019 2019-03-04   \n",
       "A             2  2019 2019-05-24   \n",
       "A             3  2019 2019-08-26   \n",
       "A             4  2019 2019-12-05   \n",
       "A             1  2020 2020-02-28   \n",
       "\n",
       "                                                  content   prev_day  \\\n",
       "symbol                                                                 \n",
       "A       Operator: Good day, ladies and gentlemen, and ... 2019-02-20   \n",
       "A       Operator: Good day, ladies and gentlemen. And ... 2019-05-14   \n",
       "A       Operator: Good afternoon, and welcome to the A... 2019-08-14   \n",
       "A       Operator: Good afternoon, and welcome to the A... 2019-11-25   \n",
       "A       Operator: Good afternoon and welcome to the Ag... 2020-02-18   \n",
       "\n",
       "        next_7day  prev_adjClose  next_adjClose   returns  \n",
       "symbol                                                     \n",
       "A      2019-03-04      77.049599      78.589417  0.019985  \n",
       "A      2019-05-24      74.701042      67.182785 -0.100645  \n",
       "A      2019-08-26      64.602371      68.591385  0.061747  \n",
       "A      2019-12-05      79.221558      80.475121  0.015824  \n",
       "A      2020-02-28      83.869682      76.233475 -0.091048  "
      ]
     },
     "execution_count": 10,
     "metadata": {},
     "output_type": "execute_result"
    }
   ],
   "source": [
    "df_earnings = pd.read_parquet(data_path + 'earning_calls_1')\n",
    "df_earnings['returns'] = (df_earnings['next_adjClose'] / df_earnings['prev_adjClose']) -1\n",
    "df_earnings.head()"
   ]
  },
  {
   "cell_type": "code",
   "execution_count": 58,
   "id": "fe0b58bb-41b8-47e4-90bf-5fac09d22752",
   "metadata": {},
   "outputs": [
    {
     "data": {
      "text/html": [
       "<div>\n",
       "<style scoped>\n",
       "    .dataframe tbody tr th:only-of-type {\n",
       "        vertical-align: middle;\n",
       "    }\n",
       "\n",
       "    .dataframe tbody tr th {\n",
       "        vertical-align: top;\n",
       "    }\n",
       "\n",
       "    .dataframe thead th {\n",
       "        text-align: right;\n",
       "    }\n",
       "</style>\n",
       "<table border=\"1\" class=\"dataframe\">\n",
       "  <thead>\n",
       "    <tr style=\"text-align: right;\">\n",
       "      <th></th>\n",
       "      <th>quarter</th>\n",
       "      <th>returns</th>\n",
       "    </tr>\n",
       "  </thead>\n",
       "  <tbody>\n",
       "    <tr>\n",
       "      <th>0</th>\n",
       "      <td>1</td>\n",
       "      <td>0.019985</td>\n",
       "    </tr>\n",
       "    <tr>\n",
       "      <th>1</th>\n",
       "      <td>2</td>\n",
       "      <td>-0.100645</td>\n",
       "    </tr>\n",
       "    <tr>\n",
       "      <th>2</th>\n",
       "      <td>3</td>\n",
       "      <td>0.061747</td>\n",
       "    </tr>\n",
       "    <tr>\n",
       "      <th>3</th>\n",
       "      <td>4</td>\n",
       "      <td>0.015824</td>\n",
       "    </tr>\n",
       "    <tr>\n",
       "      <th>4</th>\n",
       "      <td>1</td>\n",
       "      <td>-0.091048</td>\n",
       "    </tr>\n",
       "  </tbody>\n",
       "</table>\n",
       "</div>"
      ],
      "text/plain": [
       "   quarter   returns\n",
       "0        1  0.019985\n",
       "1        2 -0.100645\n",
       "2        3  0.061747\n",
       "3        4  0.015824\n",
       "4        1 -0.091048"
      ]
     },
     "execution_count": 58,
     "metadata": {},
     "output_type": "execute_result"
    }
   ],
   "source": [
    "df_returns = df_earnings[['quarter', 'returns']]\n",
    "df_returns.reset_index(drop=True, inplace=True)\n",
    "df_returns.head()"
   ]
  },
  {
   "cell_type": "code",
   "execution_count": 59,
   "id": "24c946da-4c4b-4357-bdaa-b5125837d93c",
   "metadata": {},
   "outputs": [],
   "source": [
    "del df_earnings"
   ]
  },
  {
   "cell_type": "code",
   "execution_count": 11,
   "id": "ec8c0e4a-db32-4dc2-9d13-43d6d6666ba8",
   "metadata": {},
   "outputs": [
    {
     "data": {
      "image/png": "[encoded data removed]",
      "text/plain": [
       "<Figure size 432x288 with 1 Axes>"
      ]
     },
     "metadata": {
      "needs_background": "light"
     },
     "output_type": "display_data"
    }
   ],
   "source": [
    "fig, ax = plt.subplots()\n",
    "df_earnings['returns'].hist(bins=200)\n",
    "ax.set_title('returns')\n",
    "ax.set_xlim(-1, 1);"
   ]
  },
  {
   "cell_type": "code",
   "execution_count": 63,
   "id": "57d229dc-8fb2-4d32-8cb2-19f92184a358",
   "metadata": {},
   "outputs": [
    {
     "data": {
      "text/html": [
       "<div>\n",
       "<style scoped>\n",
       "    .dataframe tbody tr th:only-of-type {\n",
       "        vertical-align: middle;\n",
       "    }\n",
       "\n",
       "    .dataframe tbody tr th {\n",
       "        vertical-align: top;\n",
       "    }\n",
       "\n",
       "    .dataframe thead th {\n",
       "        text-align: right;\n",
       "    }\n",
       "</style>\n",
       "<table border=\"1\" class=\"dataframe\">\n",
       "  <thead>\n",
       "    <tr style=\"text-align: right;\">\n",
       "      <th></th>\n",
       "      <th>vectors</th>\n",
       "      <th>quarter</th>\n",
       "      <th>returns</th>\n",
       "    </tr>\n",
       "  </thead>\n",
       "  <tbody>\n",
       "    <tr>\n",
       "      <th>0</th>\n",
       "      <td>[[1.0666107, -0.28468454, -0.08754885, -0.4464...</td>\n",
       "      <td>1</td>\n",
       "      <td>0.019985</td>\n",
       "    </tr>\n",
       "    <tr>\n",
       "      <th>1</th>\n",
       "      <td>[[1.0666107, -0.28468454, -0.08754885, -0.4464...</td>\n",
       "      <td>2</td>\n",
       "      <td>-0.100645</td>\n",
       "    </tr>\n",
       "    <tr>\n",
       "      <th>2</th>\n",
       "      <td>[[0.6297637, -0.32820508, 0.02398203, -0.13134...</td>\n",
       "      <td>3</td>\n",
       "      <td>0.061747</td>\n",
       "    </tr>\n",
       "    <tr>\n",
       "      <th>3</th>\n",
       "      <td>[[0.6297637, -0.32820508, 0.02398203, -0.13134...</td>\n",
       "      <td>4</td>\n",
       "      <td>0.015824</td>\n",
       "    </tr>\n",
       "    <tr>\n",
       "      <th>4</th>\n",
       "      <td>[[0.6297637, -0.32820508, 0.02398203, -0.13134...</td>\n",
       "      <td>1</td>\n",
       "      <td>-0.091048</td>\n",
       "    </tr>\n",
       "  </tbody>\n",
       "</table>\n",
       "</div>"
      ],
      "text/plain": [
       "                                             vectors  quarter   returns\n",
       "0  [[1.0666107, -0.28468454, -0.08754885, -0.4464...        1  0.019985\n",
       "1  [[1.0666107, -0.28468454, -0.08754885, -0.4464...        2 -0.100645\n",
       "2  [[0.6297637, -0.32820508, 0.02398203, -0.13134...        3  0.061747\n",
       "3  [[0.6297637, -0.32820508, 0.02398203, -0.13134...        4  0.015824\n",
       "4  [[0.6297637, -0.32820508, 0.02398203, -0.13134...        1 -0.091048"
      ]
     },
     "execution_count": 63,
     "metadata": {},
     "output_type": "execute_result"
    }
   ],
   "source": [
    "df_word_vecs[['quarter', 'returns']] = df_returns[['quarter', 'returns']]\n",
    "df_word_vecs.head()"
   ]
  }
 ],
 "metadata": {
  "kernelspec": {
   "display_name": "Python 3",
   "language": "python",
   "name": "python3"
  },
  "language_info": {
   "codemirror_mode": {
    "name": "ipython",
    "version": 3
   },
   "file_extension": ".py",
   "mimetype": "text/x-python",
   "name": "python",
   "nbconvert_exporter": "python",
   "pygments_lexer": "ipython3",
   "version": "3.8.10"
  }
 },
 "nbformat": 4,
 "nbformat_minor": 5
}
